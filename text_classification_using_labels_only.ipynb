{
 "cells": [
  {
   "cell_type": "markdown",
   "id": "650a6279-99d2-4fb6-beec-644255b301a7",
   "metadata": {
    "tags": []
   },
   "source": [
    "## Text Classification Using Label Names Only: A LM self-training approach"
   ]
  },
  {
   "cell_type": "markdown",
   "id": "d7baa746-5a5a-45c3-94f1-f4fcc4713b0d",
   "metadata": {
    "tags": []
   },
   "source": [
    "### Category understanding via Label Name Replacement"
   ]
  },
  {
   "cell_type": "markdown",
   "id": "9b12d454-94cf-46c0-b934-f69914c87376",
   "metadata": {
    "tags": []
   },
   "source": [
    "### Masked Category Prediction"
   ]
  },
  {
   "cell_type": "markdown",
   "id": "3f885032-0998-49f8-bd20-b011628c7d0d",
   "metadata": {
    "tags": []
   },
   "source": [
    "### Self-training"
   ]
  },
  {
   "cell_type": "code",
   "execution_count": null,
   "id": "43681546-9ef7-4149-b7f7-66bc9fd3880e",
   "metadata": {},
   "outputs": [],
   "source": []
  }
 ],
 "metadata": {
  "kernelspec": {
   "display_name": "tutc_env",
   "language": "python",
   "name": "tutc_env"
  },
  "language_info": {
   "codemirror_mode": {
    "name": "ipython",
    "version": 3
   },
   "file_extension": ".py",
   "mimetype": "text/x-python",
   "name": "python",
   "nbconvert_exporter": "python",
   "pygments_lexer": "ipython3",
   "version": "3.8.12"
  }
 },
 "nbformat": 4,
 "nbformat_minor": 5
}
