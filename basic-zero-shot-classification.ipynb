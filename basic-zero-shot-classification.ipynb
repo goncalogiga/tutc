{
 "cells": [
  {
   "cell_type": "markdown",
   "id": "c02efc6e",
   "metadata": {
    "jp-MarkdownHeadingCollapsed": true,
    "tags": []
   },
   "source": [
    "### Using zero-shot-classification"
   ]
  },
  {
   "cell_type": "code",
   "execution_count": 1,
   "id": "1614e096-c207-4a2e-ad0a-381699e05189",
   "metadata": {},
   "outputs": [],
   "source": [
    "from src.estimators.zeroshot_tutc import ZeroShotClassifier"
   ]
  },
  {
   "cell_type": "code",
   "execution_count": 2,
   "id": "2f6bccc0-d6f5-46dd-9fda-b869b1719ef4",
   "metadata": {},
   "outputs": [],
   "source": [
    "X = [\"\"\"I have bought several of the Vitality canned dog food products and have found them all to be of good quality.\n",
    "The product looks more like a stew than a processed meat and it smells better. \n",
    "My Labrador is finicky and she appreciates this product better than  most.\n",
    "\"\"\",\n",
    "\n",
    "\"\"\"\n",
    "Product arrived labeled as Jumbo Salted Peanuts...\n",
    "the peanuts were actually small sized unsalted. Not sure if this was an error or if the vendor intended to represent the product as Jumbo.\n",
    "\"\"\",\n",
    "     \n",
    "\"\"\"\n",
    "This is a confection that has been around a few centuries.  It is a light, pillowy citrus gelatin with nuts - in this case Filberts. \n",
    "And it is cut into tiny squares and then liberally coated with powdered sugar.  \n",
    "And it is a tiny mouthful of heaven.  Not too chewy, and very flavorful.  I highly recommend this yummy treat.  \n",
    "If you are familiar with the story of C.S. Lewis' The Lion, The Witch, and The Wardrobe - this is the treat that seduces Edmund \n",
    "into selling out his Brother and Sisters to the Witch.\n",
    "\"\"\"]\n",
    "\n",
    "candidate_labels = [\"Negative\", \"Positive\"]"
   ]
  },
  {
   "cell_type": "code",
   "execution_count": 3,
   "id": "e9781553-8b13-46bc-9c66-f18617a8d9b3",
   "metadata": {},
   "outputs": [
    {
     "name": "stderr",
     "output_type": "stream",
     "text": [
      "No model was supplied, defaulted to facebook/bart-large-mnli (https://huggingface.co/facebook/bart-large-mnli)\n"
     ]
    }
   ],
   "source": [
    "zc = ZeroShotClassifier(candidate_labels)"
   ]
  },
  {
   "cell_type": "code",
   "execution_count": 4,
   "id": "b2185c85-9769-49c6-ad97-ddead4417191",
   "metadata": {},
   "outputs": [
    {
     "name": "stdout",
     "output_type": "stream",
     "text": [
      "=== Classification Report ===\n",
      "Sample 0:\n",
      "\tInput: I have bought several of the Vitality canned dog food products and have found them all to be of good quality.\n",
      "The product looks more like a stew than a processed meat and it smells better. \n",
      "My Labrador is finicky and she appreciates this product better than  most.\n",
      "\n",
      "\tLabels:\n",
      "\t\t Positive - confidence at 0.809048\n",
      "\t\t Negative - confidence at 0.190952\n",
      "[{'sequence': 'I have bought several of the Vitality canned dog food products and have found them all to be of good quality.\\nThe product looks more like a stew than a processed meat and it smells better. \\nMy Labrador is finicky and she appreciates this product better than  most.\\n', 'labels': ['Positive', 'Negative'], 'scores': [0.8090484142303467, 0.19095157086849213]}, {'sequence': '\\nProduct arrived labeled as Jumbo Salted Peanuts...\\nthe peanuts were actually small sized unsalted. Not sure if this was an error or if the vendor intended to represent the product as Jumbo.\\n', 'labels': ['Negative', 'Positive'], 'scores': [0.8908759355545044, 0.10912410169839859]}, {'sequence': \"\\nThis is a confection that has been around a few centuries.  It is a light, pillowy citrus gelatin with nuts - in this case Filberts. \\nAnd it is cut into tiny squares and then liberally coated with powdered sugar.  \\nAnd it is a tiny mouthful of heaven.  Not too chewy, and very flavorful.  I highly recommend this yummy treat.  \\nIf you are familiar with the story of C.S. Lewis' The Lion, The Witch, and The Wardrobe - this is the treat that seduces Edmund \\ninto selling out his Brother and Sisters to the Witch.\\n\", 'labels': ['Positive', 'Negative'], 'scores': [0.6339324116706848, 0.3660675585269928]}]\n"
     ]
    }
   ],
   "source": [
    "print(zc.fit(X))"
   ]
  },
  {
   "cell_type": "markdown",
   "id": "c9138873",
   "metadata": {},
   "source": [
    "### Testing KeyWord Extraction prior to the Zero-Shot Classification"
   ]
  },
  {
   "cell_type": "code",
   "execution_count": 5,
   "id": "741a3724-a183-4290-bb1f-66f1a149c085",
   "metadata": {},
   "outputs": [],
   "source": [
    "import pandas as pd\n",
    "from src.transformers.yake_tutc import Yake"
   ]
  },
  {
   "cell_type": "code",
   "execution_count": 13,
   "id": "a3b5e6ac-7c45-430e-a011-a1ecc80e1a0e",
   "metadata": {},
   "outputs": [
    {
     "name": "stdout",
     "output_type": "stream",
     "text": [
      "[I] Transforming X using yake (returning type 'summary')\n"
     ]
    },
    {
     "name": "stderr",
     "output_type": "stream",
     "text": [
      "100%|██████████| 3/3 [00:00<00:00, 16.98it/s]"
     ]
    },
    {
     "name": "stdout",
     "output_type": "stream",
     "text": [
      "Vitality canned dog canned dog food Vitality canned dog food products good quality canned dog dog food Vitality food products quality bought canned dog food found good Labrador is finicky product processed meat Labrador\n"
     ]
    },
    {
     "name": "stderr",
     "output_type": "stream",
     "text": [
      "\n"
     ]
    }
   ],
   "source": [
    "df = pd.DataFrame(X)\n",
    "df = df.iloc[:,0]\n",
    "X_trans = Yake().transform(df, result_type=\"summary\")\n",
    "print(X_trans[0])"
   ]
  },
  {
   "cell_type": "code",
   "execution_count": 14,
   "id": "218dc196-142c-45dd-a462-2c99dbe73230",
   "metadata": {},
   "outputs": [
    {
     "name": "stdout",
     "output_type": "stream",
     "text": [
      "=== Classification Report ===\n",
      "Sample 0:\n",
      "\tInput: Vitality canned dog canned dog food Vitality canned dog food products good quality canned dog dog food Vitality food products quality bought canned dog food found good Labrador is finicky product processed meat Labrador\n",
      "\tLabels:\n",
      "\t\t Positive - confidence at 0.978948\n",
      "\t\t Negative - confidence at 0.021052\n",
      "[{'sequence': 'Vitality canned dog canned dog food Vitality canned dog food products good quality canned dog dog food Vitality food products quality bought canned dog food found good Labrador is finicky product processed meat Labrador', 'labels': ['Positive', 'Negative'], 'scores': [0.978947639465332, 0.021052410826086998]}, {'sequence': 'Jumbo Salted Peanuts Jumbo Salted Salted Peanuts Product arrived labeled arrived labeled labeled as Jumbo Salted Jumbo Product arrived Peanuts small sized unsalted arrived labeled sized unsalted Product product as Jumbo small sized unsalted small sized', 'labels': ['Positive', 'Negative'], 'scores': [0.8948540091514587, 0.10514595359563828]}, {'sequence': \"case Filberts pillowy citrus gelatin centuries Witch pillowy citrus gelatin with nuts confection Filberts Brother and Sisters citrus gelatin tiny Lewis' The Lion powdered sugar treat tiny squares liberally coated coated with powdered tiny mouthful light pillowy\", 'labels': ['Positive', 'Negative'], 'scores': [0.7536760568618774, 0.2463238686323166]}]\n"
     ]
    }
   ],
   "source": [
    "print(zc.fit(X_trans))"
   ]
  }
 ],
 "metadata": {
  "kernelspec": {
   "display_name": "tutc_env",
   "language": "python",
   "name": "tutc_env"
  },
  "language_info": {
   "codemirror_mode": {
    "name": "ipython",
    "version": 3
   },
   "file_extension": ".py",
   "mimetype": "text/x-python",
   "name": "python",
   "nbconvert_exporter": "python",
   "pygments_lexer": "ipython3",
   "version": "3.8.12"
  }
 },
 "nbformat": 4,
 "nbformat_minor": 5
}
