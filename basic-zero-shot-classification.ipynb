{
 "cells": [
  {
   "cell_type": "markdown",
   "id": "c02efc6e",
   "metadata": {},
   "source": [
    "### Using zero-shot-classification to classify noisy emails (in french)"
   ]
  },
  {
   "cell_type": "code",
   "execution_count": 1,
   "id": "1614e096-c207-4a2e-ad0a-381699e05189",
   "metadata": {},
   "outputs": [],
   "source": [
    "from src.estimators.zeroshot_tutc import ZeroShotClassifier"
   ]
  },
  {
   "cell_type": "code",
   "execution_count": 2,
   "id": "2f6bccc0-d6f5-46dd-9fda-b869b1719ef4",
   "metadata": {},
   "outputs": [],
   "source": [
    "input_txt = [\"contrat numéro 1218374.msg\\n\\nbonjour je vous ecris concernant une de nos locataire madame locataire au rue de niederbronn a comme explique lors de ma conversation telephonique aupres du service recouvrement madame est locataire depuis le et il n'ya pas eu de releves de compteur au moment de l'etat des lieux seulement en avril par ma collegue afin de pouvoir calculer part de ce que madame doiti il m'a ete demande d'envoyer par mail le numero de compteur et le bail de l'ancienne locataire madame je vous donne son releve de compteur en date du en piece jointe vous trouverez le bail de mademoiselle bien cordialement service gestion\",\n",
    "         \"Email d'origine : RE  Votre demande (30).msg\\n\\nbonjour veuillez trouver cijoint les documents demandes bien cordialement de accueil envoye mardi juillet a objet votre demande bonjour madame nous faisons suite a votre demande nous vous remercions de bien vouloir nous transmettre par retour de mail les elements suivants le certificat d'heredite une declaration portefort a votre nom en cas d'une succession avec plusieurs heritiers votre piece d'identite des reception de ces documents nous pourrons proceder au remboursement de l'avoir nous restons bien entendu a votre disposition pour tous renseignements complementaires cordialement guete votre conseiller si vous n'imprimez ce mail qu'en cas de necessite vous contribuerez a preservation de l'environnement energies sa rue du marais vert cedex rcs b email mailto de mailto envoye jeudi juillet a accueil objet ref bonjour j'ai recu facture n°s du d'un montant de  elle est arrivee a nouvelle adresse comme demandee il est precise que regularisation se fera sur le compte indique a partir du a savoir celui de feu mr jean or ce compte est actuellement bloque pour succession il serait preferable de modifier le mandat sepa pour ce remboursement ainsi que pour les futures factures a mon intention veuillez trouver de ce fait cijoint mon rib merci pour votre aide bien cordialement de accueil mailto envoye vendredi mai a objet votre demande bonjour monsieur nous vous confirmons prise en compte de votre demande de modification de l'adresse de correspondance du contrat n° par ailleurs nous vous proposons de facture n° s en joignant un cheque au titre interbancaire de paiement et de l'envoyer avec l'enveloppe fournie nous restons bien entendu a votre disposition pour tous renseignements complementaires bien cordialement guete votre conseiller si vous n'imprimez ce mail qu'en cas de necessite vous contribuerez a preservation de l'environnement energies sa rue du marais vert cedex rcs b email mailto message d'origine de mailto envoye mercredi mai a accueil mailto objet ref bonjour monsieur jean rue des violettes wolxheim est decede recemment je suis sa fille je voudrai savoir s'il est possible de m'adresser ses prochaines factures a mon adresse en attendant vente de maison et l'arret de son abonnement pour ce qui est de facture du mois de mai n°s comment je peux vous merci pour votre retour bien cordialement rue beau site bitche envoye de mon ipad\",\n",
    "         \"Email d'origine : Re  votre demande .msg\\n\\nbonjour voici plus de semaines que ce mail m'a ete envoye nous avons bien receptionne une petite compensation mais sincerement je ne sais pas a quoi ca correspond ni si cela couvre le prejudice d'autre part notre consommation a fortement diminuee depuis l'installation d'un poele a granules je pense qu'il serait interessant d'ajuster notre mensualite en fonction bien a vous cordialement le mai a accueil mailto a ecrit bonjour monsieur nous faisons suite a votre demande et vous confirmons que regularisation est en cours vous allez dans les prochains jours receptionner un courrier de regularisation par voie postale nous restons bien entendu a votre disposition pour tous renseignements complementaires cordialement guete votre conseiller si vous n'imprimez ce mail qu'en cas de necessite vous contribuerez a preservation de l'environnement energies sa rue du marais vert cedex rcs b email mailto reference client commentaires du client bonjour nous avons remarque courant que le relais de notre compteur electrique etait casse et que toute notre consommation passait en heures pleines un technicien est venu nous installer un nouveau compteur le et depuis nous n'avons plus aucunes nouvelles de votre part nous avons un document avec les derniers releves de compteur que nous avons fait en en avezvous besoin pour faire regularisation d'apres nos releves le relais a du s'arreter de fonctionner pendant le mois d'octobre il y a donc toute periode d'octobre a qu'il faudrait regulariser merci d'avance pour votre aide cordialement et\",\n",
    "         \"Email d'origine : contrat 557397.msg\\n\\nbonjour je viens de recevoir ma facture d'electricite et je souhaite que mes mensualites restent a  et non  comme l'indique mon nouvel echeancier avec mes remerciements \"\n",
    "]\n",
    "\n",
    "true_labels = [\"Relève de compteur\", \"Contrat – Coordonnées personnelles\", \"Réclamation\", \"Facture\"]\n",
    "\n",
    "candidate_labels = [\"Déménagement\", \"Relève de compteur\", \"Réclamation\", \"Contrat – Coordonnées personnelles\", \"Facture\", \"Espace client\"]"
   ]
  },
  {
   "cell_type": "code",
   "execution_count": 3,
   "id": "e9781553-8b13-46bc-9c66-f18617a8d9b3",
   "metadata": {},
   "outputs": [
    {
     "name": "stderr",
     "output_type": "stream",
     "text": [
      "No model was supplied, defaulted to facebook/bart-large-mnli (https://huggingface.co/facebook/bart-large-mnli)\n"
     ]
    }
   ],
   "source": [
    "zc = ZeroShotClassifier(candidate_labels)"
   ]
  },
  {
   "cell_type": "code",
   "execution_count": 4,
   "id": "b2185c85-9769-49c6-ad97-ddead4417191",
   "metadata": {},
   "outputs": [
    {
     "name": "stdout",
     "output_type": "stream",
     "text": [
      "=== Classification Report ===\n",
      "Sample 0:\n",
      "\tInput: contrat numéro 1218374.msg\n",
      "\n",
      "bonjour je vous ecris concernant une de nos locataire madame locataire au rue de niederbronn a comme explique lors de ma conversation telephonique aupres du service recouvrement madame est locataire depuis le et il n'ya pas eu de releves de compteur au moment de l'etat des lieux seulement en avril par ma collegue afin de pouvoir calculer part de ce que madame doiti il m'a ete demande d'envoyer par mail le numero de compteur et le bail de l'ancienne locataire madame je vous donne son releve de compteur en date du en piece jointe vous trouverez le bail de mademoiselle bien cordialement service gestion\n",
      "\tLabels:\n",
      "\t\t Relève de compteur - confidence at 0.402640\n",
      "\t\t Réclamation - confidence at 0.280623\n",
      "\t\t Contrat – Coordonnées personnelles - confidence at 0.150500\n",
      "\t\t Déménagement - confidence at 0.063685\n",
      "\t\t Facture - confidence at 0.062113\n",
      "\t\t Espace client - confidence at 0.040439\n",
      "[{'sequence': \"contrat numéro 1218374.msg\\n\\nbonjour je vous ecris concernant une de nos locataire madame locataire au rue de niederbronn a comme explique lors de ma conversation telephonique aupres du service recouvrement madame est locataire depuis le et il n'ya pas eu de releves de compteur au moment de l'etat des lieux seulement en avril par ma collegue afin de pouvoir calculer part de ce que madame doiti il m'a ete demande d'envoyer par mail le numero de compteur et le bail de l'ancienne locataire madame je vous donne son releve de compteur en date du en piece jointe vous trouverez le bail de mademoiselle bien cordialement service gestion\", 'labels': ['Relève de compteur', 'Réclamation', 'Contrat – Coordonnées personnelles', 'Déménagement', 'Facture', 'Espace client'], 'scores': [0.4026396572589874, 0.2806234657764435, 0.15049982070922852, 0.06368482112884521, 0.06211302801966667, 0.040439192205667496]}, {'sequence': \"Email d'origine : RE  Votre demande (30).msg\\n\\nbonjour veuillez trouver cijoint les documents demandes bien cordialement de accueil envoye mardi juillet a objet votre demande bonjour madame nous faisons suite a votre demande nous vous remercions de bien vouloir nous transmettre par retour de mail les elements suivants le certificat d'heredite une declaration portefort a votre nom en cas d'une succession avec plusieurs heritiers votre piece d'identite des reception de ces documents nous pourrons proceder au remboursement de l'avoir nous restons bien entendu a votre disposition pour tous renseignements complementaires cordialement guete votre conseiller si vous n'imprimez ce mail qu'en cas de necessite vous contribuerez a preservation de l'environnement energies sa rue du marais vert cedex rcs b email mailto de mailto envoye jeudi juillet a accueil objet ref bonjour j'ai recu facture n°s du d'un montant de \\x80 elle est arrivee a nouvelle adresse comme demandee il est precise que regularisation se fera sur le compte indique a partir du a savoir celui de feu mr jean or ce compte est actuellement bloque pour succession il serait preferable de modifier le mandat sepa pour ce remboursement ainsi que pour les futures factures a mon intention veuillez trouver de ce fait cijoint mon rib merci pour votre aide bien cordialement de accueil mailto envoye vendredi mai a objet votre demande bonjour monsieur nous vous confirmons prise en compte de votre demande de modification de l'adresse de correspondance du contrat n° par ailleurs nous vous proposons de facture n° s en joignant un cheque au titre interbancaire de paiement et de l'envoyer avec l'enveloppe fournie nous restons bien entendu a votre disposition pour tous renseignements complementaires bien cordialement guete votre conseiller si vous n'imprimez ce mail qu'en cas de necessite vous contribuerez a preservation de l'environnement energies sa rue du marais vert cedex rcs b email mailto message d'origine de mailto envoye mercredi mai a accueil mailto objet ref bonjour monsieur jean rue des violettes wolxheim est decede recemment je suis sa fille je voudrai savoir s'il est possible de m'adresser ses prochaines factures a mon adresse en attendant vente de maison et l'arret de son abonnement pour ce qui est de facture du mois de mai n°s comment je peux vous merci pour votre retour bien cordialement rue beau site bitche envoye de mon ipad\", 'labels': ['Facture', 'Réclamation', 'Relève de compteur', 'Déménagement', 'Contrat – Coordonnées personnelles', 'Espace client'], 'scores': [0.2737240195274353, 0.2654985785484314, 0.22113093733787537, 0.14419853687286377, 0.06361513584852219, 0.03183281794190407]}, {'sequence': \"Email d'origine : Re  votre demande .msg\\n\\nbonjour voici plus de semaines que ce mail m'a ete envoye nous avons bien receptionne une petite compensation mais sincerement je ne sais pas a quoi ca correspond ni si cela couvre le prejudice d'autre part notre consommation a fortement diminuee depuis l'installation d'un poele a granules je pense qu'il serait interessant d'ajuster notre mensualite en fonction bien a vous cordialement le mai a accueil mailto a ecrit bonjour monsieur nous faisons suite a votre demande et vous confirmons que regularisation est en cours vous allez dans les prochains jours receptionner un courrier de regularisation par voie postale nous restons bien entendu a votre disposition pour tous renseignements complementaires cordialement guete votre conseiller si vous n'imprimez ce mail qu'en cas de necessite vous contribuerez a preservation de l'environnement energies sa rue du marais vert cedex rcs b email mailto reference client commentaires du client bonjour nous avons remarque courant que le relais de notre compteur electrique etait casse et que toute notre consommation passait en heures pleines un technicien est venu nous installer un nouveau compteur le et depuis nous n'avons plus aucunes nouvelles de votre part nous avons un document avec les derniers releves de compteur que nous avons fait en en avezvous besoin pour faire regularisation d'apres nos releves le relais a du s'arreter de fonctionner pendant le mois d'octobre il y a donc toute periode d'octobre a qu'il faudrait regulariser merci d'avance pour votre aide cordialement et\", 'labels': ['Réclamation', 'Relève de compteur', 'Contrat – Coordonnées personnelles', 'Déménagement', 'Facture', 'Espace client'], 'scores': [0.4644976854324341, 0.2768014669418335, 0.08076978474855423, 0.07981310784816742, 0.05317777395248413, 0.04494008049368858]}, {'sequence': \"Email d'origine : contrat 557397.msg\\n\\nbonjour je viens de recevoir ma facture d'electricite et je souhaite que mes mensualites restent a \\x80 et non \\x80 comme l'indique mon nouvel echeancier avec mes remerciements \", 'labels': ['Facture', 'Réclamation', 'Contrat – Coordonnées personnelles', 'Relève de compteur', 'Déménagement', 'Espace client'], 'scores': [0.4729176163673401, 0.2247328758239746, 0.16372506320476532, 0.054266978055238724, 0.04446657747030258, 0.03989095240831375]}]\n"
     ]
    }
   ],
   "source": [
    "print(zc.fit(input_txt))"
   ]
  },
  {
   "cell_type": "markdown",
   "id": "c9138873",
   "metadata": {},
   "source": [
    "### Testing KeyWord Extraction prior to the Zero-Shot Classification"
   ]
  },
  {
   "cell_type": "code",
   "execution_count": 5,
   "id": "741a3724-a183-4290-bb1f-66f1a149c085",
   "metadata": {},
   "outputs": [],
   "source": [
    "import pandas as pd\n",
    "from src.transformers.yake_tutc import Yake"
   ]
  },
  {
   "cell_type": "code",
   "execution_count": 6,
   "id": "47a3a69e-4a58-46db-8411-0a52fdf17d35",
   "metadata": {},
   "outputs": [
    {
     "data": {
      "text/plain": [
       "0    contrat numéro 1218374.msg\\n\\nbonjour je vous ...\n",
       "1    Email d'origine : RE  Votre demande (30).msg\\n...\n",
       "2    Email d'origine : Re  votre demande .msg\\n\\nbo...\n",
       "3    Email d'origine : contrat 557397.msg\\n\\nbonjou...\n",
       "Name: 0, dtype: object"
      ]
     },
     "execution_count": 6,
     "metadata": {},
     "output_type": "execute_result"
    }
   ],
   "source": [
    "X = pd.DataFrame(input_txt).iloc[:,0]\n",
    "X.head()"
   ]
  },
  {
   "cell_type": "code",
   "execution_count": 7,
   "id": "a3b5e6ac-7c45-430e-a011-a1ecc80e1a0e",
   "metadata": {},
   "outputs": [
    {
     "name": "stdout",
     "output_type": "stream",
     "text": [
      "[I] Transforming X using yake (returning type 'summary')\n"
     ]
    },
    {
     "name": "stderr",
     "output_type": "stream",
     "text": [
      "100%|██████████| 4/4 [00:00<00:00,  6.92it/s]"
     ]
    },
    {
     "name": "stdout",
     "output_type": "stream",
     "text": [
      "contrat numéro 1218374.msg\n",
      "\n",
      "bonjour je vous ecris concernant une de nos locataire madame locataire au rue de niederbronn a comme explique lors de ma conversation telephonique aupres du service recouvrement madame est locataire depuis le et il n'ya pas eu de releves de compteur au moment de l'etat des lieux seulement en avril par ma collegue afin de pouvoir calculer part de ce que madame doiti il m'a ete demande d'envoyer par mail le numero de compteur et le bail de l'ancienne locataire madame je vous donne son releve de compteur en date du en piece jointe vous trouverez le bail de mademoiselle bien cordialement service gestion\n",
      "================================================================================\n",
      "locataire madame locataire l'ancienne locataire madame cordialement service gestion service recouvrement madame conversation telephonique aupres pouvoir calculer part ete demande d'envoyer locataire madame releves de compteur contrat numéro bail de l'ancienne trouverez le bail bail de mademoiselle numero de compteur madame locataire service gestion recouvrement madame madame doiti l'ancienne locataire service recouvrement\n"
     ]
    },
    {
     "name": "stderr",
     "output_type": "stream",
     "text": [
      "\n"
     ]
    }
   ],
   "source": [
    "X_trans = Yake(language='fr').transform(X, result_type=\"summary\")\n",
    "print(X[0])\n",
    "print(80*'=')\n",
    "print(X_trans[0])"
   ]
  },
  {
   "cell_type": "code",
   "execution_count": 8,
   "id": "218dc196-142c-45dd-a462-2c99dbe73230",
   "metadata": {},
   "outputs": [
    {
     "name": "stdout",
     "output_type": "stream",
     "text": [
      "=== Classification Report ===\n",
      "Sample 0:\n",
      "\tInput: locataire madame locataire l'ancienne locataire madame cordialement service gestion service recouvrement madame conversation telephonique aupres pouvoir calculer part ete demande d'envoyer locataire madame releves de compteur contrat numéro bail de l'ancienne trouverez le bail bail de mademoiselle numero de compteur madame locataire service gestion recouvrement madame madame doiti l'ancienne locataire service recouvrement\n",
      "\tLabels:\n",
      "\t\t Relève de compteur - confidence at 0.698880\n",
      "\t\t Réclamation - confidence at 0.117610\n",
      "\t\t Contrat – Coordonnées personnelles - confidence at 0.073283\n",
      "\t\t Déménagement - confidence at 0.046843\n",
      "\t\t Facture - confidence at 0.046493\n",
      "\t\t Espace client - confidence at 0.016891\n",
      "[I] accuracy: 0.75\n",
      "\n",
      "[{'sequence': \"locataire madame locataire l'ancienne locataire madame cordialement service gestion service recouvrement madame conversation telephonique aupres pouvoir calculer part ete demande d'envoyer locataire madame releves de compteur contrat numéro bail de l'ancienne trouverez le bail bail de mademoiselle numero de compteur madame locataire service gestion recouvrement madame madame doiti l'ancienne locataire service recouvrement\", 'labels': ['Relève de compteur', 'Réclamation', 'Contrat – Coordonnées personnelles', 'Déménagement', 'Facture', 'Espace client'], 'scores': [0.6988803744316101, 0.11760983616113663, 0.07328280806541443, 0.04684314504265785, 0.046492598950862885, 0.016891181468963623]}, {'sequence': \"objet ref bonjour mail qu'en cas marais vert cedex vert cedex rcs accueil mailto objet accueil mailto envoye mailto objet ref demande bonjour monsieur accueil objet ref demande bonjour madame renseignements complementaires cordialement complementaires cordialement guete mailto envoye jeudi mailto envoye vendredi mailto envoye mercredi cordialement rue beau email mailto message ref bonjour monsieur accueil envoye mardi bonjour veuillez trouver\", 'labels': ['Réclamation', 'Contrat – Coordonnées personnelles', 'Facture', 'Relève de compteur', 'Déménagement', 'Espace client'], 'scores': [0.4646855592727661, 0.16334371268749237, 0.13264676928520203, 0.10934612900018692, 0.076226606965065, 0.05375120788812637]}, {'sequence': \"avons remarque courant mail qu'en cas email mailto reference mailto reference client ecrit bonjour monsieur renseignements complementaires cordialement complementaires cordialement guete compteur electrique etait faire regularisation d'apres prejudice d'autre part pense qu'il serait qu'il serait interessant reference client commentaires qu'il faudrait regulariser l'installation d'un poele serait interessant d'ajuster prochains jours receptionner marais vert cedex vert cedex rcs electrique etait casse\", 'labels': ['Réclamation', 'Relève de compteur', 'Déménagement', 'Contrat – Coordonnées personnelles', 'Facture', 'Espace client'], 'scores': [0.7608075737953186, 0.13769303262233734, 0.028665220364928246, 0.026792244985699654, 0.025295691564679146, 0.020746279507875443]}, {'sequence': \"Email d'origine bonjour je viens viens de recevoir recevoir ma facture facture d'electricite mensualites restent l'indique mon nouvel nouvel echeancier contrat Email d'origine bonjour remerciements viens recevoir facture d'electricite souhaite mensualites restent\", 'labels': ['Facture', 'Réclamation', 'Déménagement', 'Contrat – Coordonnées personnelles', 'Relève de compteur', 'Espace client'], 'scores': [0.5534704923629761, 0.3401259183883667, 0.041376933455467224, 0.03011227212846279, 0.018928494304418564, 0.015985850244760513]}]\n"
     ]
    }
   ],
   "source": [
    "print(zc.fit(X_trans, true_labels))"
   ]
  }
 ],
 "metadata": {
  "kernelspec": {
   "display_name": "tutc_env",
   "language": "python",
   "name": "tutc_env"
  },
  "language_info": {
   "codemirror_mode": {
    "name": "ipython",
    "version": 3
   },
   "file_extension": ".py",
   "mimetype": "text/x-python",
   "name": "python",
   "nbconvert_exporter": "python",
   "pygments_lexer": "ipython3",
   "version": "3.8.12"
  }
 },
 "nbformat": 4,
 "nbformat_minor": 5
}
