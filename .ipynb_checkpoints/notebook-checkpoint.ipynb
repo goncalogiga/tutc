{
 "cells": [
  {
   "cell_type": "code",
   "execution_count": 1,
   "id": "5202f0db-4cc8-44d5-a1a2-70fed1816f27",
   "metadata": {},
   "outputs": [],
   "source": [
    "import pandas as pd"
   ]
  },
  {
   "cell_type": "code",
   "execution_count": 21,
   "id": "48c407ab-a033-4ece-ab6d-7fa75e02dce2",
   "metadata": {},
   "outputs": [],
   "source": [
    "dataset = pd.read_csv(\"./data/data10.csv\")\n",
    "dataset = dataset.iloc[: , 1:]\n",
    "dataset.to_csv(\"./data/data10.csv\")"
   ]
  },
  {
   "cell_type": "code",
   "execution_count": 26,
   "id": "515e310e-57f1-44c0-82f7-7f1cf2d77465",
   "metadata": {},
   "outputs": [],
   "source": [
    "dataset2 = pd.read_csv(\"./data/data10.csv\")\n",
    "dataset.to_csv(\"./data/data_10.csv\")\n",
    "df = pd.read_csv(\"./data/data_10.csv\")"
   ]
  }
 ],
 "metadata": {
  "kernelspec": {
   "display_name": "pi_env",
   "language": "python",
   "name": "pi_env"
  },
  "language_info": {
   "codemirror_mode": {
    "name": "ipython",
    "version": 3
   },
   "file_extension": ".py",
   "mimetype": "text/x-python",
   "name": "python",
   "nbconvert_exporter": "python",
   "pygments_lexer": "ipython3",
   "version": "3.8.2"
  }
 },
 "nbformat": 4,
 "nbformat_minor": 5
}
