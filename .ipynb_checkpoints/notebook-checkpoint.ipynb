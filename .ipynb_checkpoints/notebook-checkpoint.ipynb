{
 "cells": [
  {
   "cell_type": "code",
   "execution_count": 1,
   "id": "5202f0db-4cc8-44d5-a1a2-70fed1816f27",
   "metadata": {},
   "outputs": [],
   "source": [
    "import pandas as pd"
   ]
  },
  {
   "cell_type": "code",
   "execution_count": 2,
   "id": "46d45f09-401a-46b1-b640-eed68764a31a",
   "metadata": {},
   "outputs": [
    {
     "name": "stdout",
     "output_type": "stream",
     "text": [
      "/home/goncalo/tutc/src/estimators\n",
      "/home/goncalo/tutc\n"
     ]
    }
   ],
   "source": [
    "from src.transformers.yake_tutc import Yake\n",
    "%cd src/estimators/\n",
    "from bclustering_tutc import BClustering\n",
    "%cd ../.."
   ]
  },
  {
   "cell_type": "code",
   "execution_count": 3,
   "id": "c6fa71a8-f329-4379-8c87-04c1b82abaae",
   "metadata": {},
   "outputs": [
    {
     "data": {
      "text/plain": [
       "0    I have bought several of the Vitality canned d...\n",
       "1    Product arrived labeled as Jumbo Salted Peanut...\n",
       "2    This is a confection that has been around a fe...\n",
       "3    If you are looking for the secret ingredient i...\n",
       "4    Great taffy at a great price.  There was a wid...\n",
       "Name: Text, dtype: object"
      ]
     },
     "execution_count": 3,
     "metadata": {},
     "output_type": "execute_result"
    }
   ],
   "source": [
    "X = pd.read_csv(\"data/data10.csv\")\n",
    "X = X[:50].Text\n",
    "X.head()"
   ]
  },
  {
   "cell_type": "code",
   "execution_count": 4,
   "id": "8cc3e0e0-f792-496e-a5d9-82b7fc821651",
   "metadata": {
    "tags": []
   },
   "outputs": [
    {
     "name": "stdout",
     "output_type": "stream",
     "text": [
      "[I] Transforming X using yake (returning type 'list')\n"
     ]
    },
    {
     "name": "stderr",
     "output_type": "stream",
     "text": [
      "100%|██████████████████████████████████████████████████████████████████████████████████████████████████████████████████████████████████████████████████████████| 50/50 [00:01<00:00, 41.44it/s]\n"
     ]
    },
    {
     "name": "stdout",
     "output_type": "stream",
     "text": [
      "[I] Brown Clustering report:\n",
      "[['good', 'Twizzlers', 'price', 'Apples', 'Pack', 'buy', 'candy', 'food', 'product', 'Cinnamon', 'flavor', 'love', 'taffy', 'Instant Irish Oatmeal', 'Irish Oatmeal', 'McCann Instant', 'Strawberry', 'Variety Pack', 'bag', 'bought', 'chewy', 'healthy', 'instant', 'ordered', 'quality', 'Apples and Cinnamon', 'Bags', 'Boxes', 'Good', 'Gourmet de Inclan', 'Great', 'Maple', 'McCann Instant Irish', 'McCann Instant Oatmeal', 'McCann Oatmeal', 'Pack of Regular', 'Picante Gourmet', 'Product', 'Tequila Picante', 'Tequila Picante Gourmet', 'back', 'brand', 'buying', 'cactus', 'cats', 'combination', 'combination of ingredients', 'cut', 'daughter', 'dog', 'dog food', 'eating', 'found', 'fresh', 'good quality', 'great price', 'half', 'hot', 'hot sauce', 'hot sauce makes', 'hot sauce.', 'href', 'husband', 'ingredients', 'instant oatmeal', 'kind', 'love hot', 'love hot sauce', 'loves', 'milk', 'minutes', 'mushy', 'ordering', 'packed', 'pounds', 'sauce', 'sauce makes', 'small', 'soft', 'soft and chewy', 'store', 'sugar', 'tequila', 'unique', 'unique combination', 'weight', 'years', 'yummy', 'APPLE AND CINN', 'Abby', 'Amazon carried', 'Amazon for selling', 'Apple Licorice', 'Apple Licorice Twists', 'Beer', 'Beer Extract', 'Blue Raspberry', 'Blue Raspberry Licorice', 'Brother and Sisters', 'Brown', 'Brown Sugar flavor', 'Candy', 'Candy was delivered', 'Cappuccino', 'Cinnamon flavor', 'Coffee Shop', 'Color and Blue', 'Cut Oats', 'DOSE NOT GIVE', 'Delivery', 'Dolce Gusto', 'Dolche Guesto', 'Dolche Guesto Machine', 'Extract', 'Extract I ordered', 'FRIEND NATE', 'Felidae', 'Felidae Platinum', 'Filberts', 'Fralinger', 'Good oatmeal', 'Great deal', 'Great taffy', 'Green Color', 'Guesto Machine', 'Guinness World Record', 'Hershey Company', 'INSTANT IRISH', 'INSTANT IRISH OATMEAL', 'IRISH OATMEAL', 'Instant Oatmeal', 'Instant Oatmeal holds', 'Instant oatmeal', 'Jumbo', 'Jumbo Salted', 'Jumbo Salted Peanuts', 'Kroger', 'Kroger store', 'Kroger store brand', 'LOVED', 'LOVED these toffees', 'Labrador', 'Labrador is finicky', 'Lancaster Pennsylvania', 'Latte', 'Latte Macciato', 'Licorice Twists', 'MADE WITH WATER', 'MORNING FOR COFFEE', 'Macciato', 'Maple and Brown', 'Maple and brown', \"McCANN'S Instant\", \"McCANN'S Instant Irish\", 'McCANNS INSTANT', 'McCANNS INSTANT IRISH', 'McCann Steel', 'McCann Steel Cut', 'McCann instant oatmeal', 'McCann makes', 'McCann makes oatmeal', 'McCann regular', 'McCann regular oat', 'McCann steel', 'McCann steel cut', 'McCann steel-cut', 'McCann steel-cut oats', 'Mexico', 'Mmm', 'Mum', 'NATE', 'NATE DOSE', 'OATMEAL', 'Oaker', 'Oaker Oats', 'Oaker Oats brand', 'Oatmeal every morning', 'Oatmeal holds', 'Oatmeal is great', 'Oats', 'Oats brand', 'PACKET OF McCANNS', 'POWDERED MILK', 'Peanuts', 'Platinum', 'Product arrived', 'Product arrived labeled', 'Product received', 'Raspberry Licorice', 'Raspberry Licorice Twists', 'Regular', 'Robitussin', 'Root', 'Root Beer', 'Root Beer Extract', 'Rye', 'SLICE OF TOAST', 'STORAGE ROOM', 'Salted', 'Salted Peanuts', 'Save', 'Save your money', 'Sell', 'Staral', 'Steel Cut', 'Steel Cut Oats', 'Strawberry Twizzlers', 'Strawberry my childhood', 'Sugar', 'Sugar flavor', 'TASTEFULL WHEN MADE', 'Tastes', 'Tastes great', 'Twizzler', 'Twizzler purchase', 'Twizzlers addict', 'United States', 'VISITING MY FRIEND', 'Vitality', 'Vitality canned', 'Vitality canned dog', 'WATER OR POWDERED', 'Wheatgrass', 'Wheatgrass and Rye', 'Witch', 'YUM', 'Young and Smylie', 'add', 'add raisins', 'add some milk', 'added', 'addict', 'addition', 'addled instant', 'advertised.', 'also.', 'amazing', 'amount', 'amounts', 'amounts of Twizzlers', 'apparently', 'apparently his staff', 'apple', 'apple cinnamon', 'apples and cinnamon', 'arrived', 'arrived labeled', 'assortment', 'assortment of yummy', 'back to visit', 'bad thing', 'baggie', 'batteries', 'big', 'big box', 'big box stores', 'black licorice-flavored', 'black licorice-flavored pieces', 'boil water', 'boiling water', 'bound', 'bound and unable', 'bowls', 'bowls sit', 'bowls sit full', 'box', 'box stores', 'box.', 'boy', 'boys needed', 'brands', 'brown sugar', 'brown sugar added', 'buyer', 'buying this candy', 'buying this stuff', 'by-product food', 'candies', 'candies were stuck', 'canned', 'canned dog', 'canned dog food', 'carbs', 'carbs and sugars', 'carried', 'carried these batteries', 'case Filberts', 'cats can eat', 'celiac', 'celiac disease', 'cents per meal', 'centuries', 'cherry soda', 'childhood favorite', 'childhood favorite candy', 'chooses to limit', 'chubby', 'chubby boy', 'chubby guy', 'cinnamon', 'citrus gelatin', 'coated with powdered', 'coffee', 'coffee fan', 'confection', 'connoisseur', 'convenient', 'convenient.', 'cooks', 'corn syrup', 'craving', 'cup', 'cup of low-fat', 'cut back', 'cut oats', 'daughter loves', 'daughter loves twizzlers', 'deal', 'delicious', 'delivered', 'delivered very fast', 'differce', 'digestion', 'directions', 'disappointed', 'disease', 'disease this product', 'dog eats', 'dog food products', 'door opener.', 'dropped', 'earth', 'easy and satisfying', 'eat', 'eat the grass', 'eat them pretty', 'eating Felidae', 'eating Felidae Platinum', 'eating oatmeal', 'eating oatmeal regularly', 'eats', 'eats her required', 'employees', 'employees living', 'employees living overseas', 'enjoyed', 'excellent', 'expect', 'expensive version', 'faithful', 'faithful buyer', 'fan', 'fast', 'father who simply', 'favorite', 'favorite candy', 'feeding', 'fine', 'fine with brown', 'flavors are amazing', 'flavors are good', 'follow', 'follow the directions', 'food products', 'food store', 'fresh and delicious', 'fresh and tasty', 'fructouse corn', 'fructouse corn syrup', 'garage door', 'garage door opener.', 'gelatin with nuts', 'generous', 'generous amounts', 'give the instant', 'glad', 'glad Amazon', 'glad Amazon carried', 'good Coffee', 'good flavor', 'good for small', 'good for watching', 'good hot', 'good hot breakfast', 'good instant', 'good instant oatmeal', 'good quality choice', 'good thing', 'government', 'government employees', 'government employees living', 'grape', 'grass', 'great flavors', 'great product', 'great taste', 'grocery', 'grocery or health', 'grocery store', 'grocery store brands', 'guilt free', 'guilty', 'guilty pleasure', 'guy', 'hair', 'hair for taffy', 'half an hour', 'half cup', 'half the price', 'happily', 'happily eating', 'happily eating Felidae', 'happy', 'hard time', 'hard time finding', 'health', 'health food', 'health food store', 'healthy dog', 'healthy dog food', 'high fructouse', 'high fructouse corn', 'higher', 'higher food', 'higher food sits', 'hit', 'hit the spot', 'hits the bowl', 'home', 'home bound', 'hot breakfast', 'hour', 'huge', 'huge coffee', 'huge coffee fan', 'individually', 'individually wrapped', 'ingredient', 'ingredient in Robitussin', 'instant McCann', 'intake', 'jump', 'kid', 'kids', 'labeled', 'labeled as Jumbo', 'liberally coated', 'licorice-flavored pieces', 'lifesaver', 'light', 'limit unnecessary', 'limit unnecessary sugar', 'lived', 'living overseas', 'lock', 'lock baggie', 'longest Licorice Twist', 'lose', 'lose some weight', 'love McCann instant', 'love eating', 'love these Twizzlers', 'love this candy', 'lover', 'loves twizzlers', 'low-fat', 'low-fat milk', 'machine', 'made', 'made some cherry', 'make', 'make Apple Licorice', 'make McCann Steel', 'makes oatmeal', 'manner', 'melon', 'milk and add', 'milk on top', 'minute the water', 'minutes to prepare', 'miss', 'miss my Twizzlers', 'money', 'mother purchased', 'movies', 'muster', 'needed', 'needed to lose', 'noticed similar reviews', 'nuke', 'nuts', 'oatmeal brand', 'oatmeal connoisseur', 'oatmeal cooks', 'oatmeal really thick', 'oatmeal regularly', 'oatmeal requiring', 'oats', 'oats but find', 'offer', 'often.', 'opener.', 'overly sugary', 'overseas', 'pack taste good', 'package', 'packages', 'packages of strawberry', 'packs', 'packs taste', 'packs taste great', 'pass', 'pass muster', 'pellet state', 'peppermint', 'perfect', 'pillowy', 'pillowy citrus', 'pillowy citrus gelatin', 'plan', 'plan and chewy', 'pleasure', 'pound', 'pound bag', 'pounds really hit', 'powdered sugar', 'prepare', 'pretty much guilt', 'processed meat', 'product.', 'protein-rich', 'puppies', 'purchase', 'purchased', 'quality choice', 'quick', 'raisins', 'raw pellet', 'raw pellet state', 'reasonable', 'reasonable price', 'reccomended', 'received', 'recommend', 'recommend the Dolce', 'recommend you buying', 'red', 'regular', 'regular is fine', 'remember', 'remember buying', 'required', 'required amount', 'requiring stovetop preparation', 'root', 'root beer', 'rotate', 'saltwater', 'saltwater taffy', 'satisfied', 'satisfying', 'save', 'secret', 'secret ingredient', 'securely', 'securely packed', 'selling', 'selling this product.', 'shape', 'shared', 'shipment', 'simply chooses', 'sit full', 'sits going stale', 'size', 'sized', 'sized unsalted', 'skinny boy', 'sloth addled', 'sloth addled instant', 'small puppies', 'small sized', 'small sized unsalted', 'soda', 'soggy the minute', 'son', 'soupy', 'spot', 'sprouting', 'staff', 'stay', 'stay fresh', 'steel cut', 'steel cut oats', 'steel-cut oats', 'stock', 'store brands', 'stores', 'strawberry', 'strawberry twizzlers', 'stuck', 'stuff', 'sugar added', 'sugar intake', 'sugar is terrific', 'sugars', 'sugary', 'superb', 'superb product', 'supermarket', 'supermarket brands', 'sweet', 'sweet tooth', 'taffy and ordered', 'taffy had great', 'taffy lover', 'taste good', 'taste great', 'tasty', 'tasty oatmeal', 'thick', 'thick to add', 'thought I give', 'time', 'time eating', 'time finding', 'timely manner', 'times', 'times from Amazon', 'tiny', 'tiny mouthful', 'tiny squares', 'toffees', 'tooth', 'top', 'touch the food', 'transfer', 'treat', 'twizzlers', 'unable', 'unique size', 'unnecessary sugar', 'unnecessary sugar intake', 'unsalted', 'variety', 'variety packs', 'variety packs taste', 'vendor intended', 'version', 'visit', 'visits', 'watch her sugar', 'watchers', 'watching', 'water hits', 'watermelon', 'weight watchers', 'wholesome', 'wide', 'wide assortment', 'wife', 'wild', 'wild hair', 'worth the price', 'wrapped', 'yrs', 'yummy taffy', 'zip', 'zip lock', 'zip lock baggie'], ['McCann'], ['Oatmeal', 'great'], ['Amazon', 'flavors', 'taste', 'Variety', 'expensive than Kroger', 'scrape'], ['Brown Sugar', 'oatmeal', 'morning', 'choice', 'oatmeal requiring stovetop', 'steel'], ['Instant', 'Instant Irish', 'instant variety', 'thing']]\n"
     ]
    }
   ],
   "source": [
    "# Transform the data in order to tokenize sentences into a list\n",
    "# of keywords\n",
    "X_trans = Yake().transform(X)\n",
    "\n",
    "# Cluster the tokenized input\n",
    "clust = BClustering(m=6)\n",
    "clust_output = clust.fit(X_trans)"
   ]
  },
  {
   "cell_type": "code",
   "execution_count": 5,
   "id": "5d7aa072-01c1-4a0e-ab7f-f3440f347794",
   "metadata": {},
   "outputs": [
    {
     "data": {
      "text/plain": [
       "[('good quality', 453),\n",
       " ('dog food', 453),\n",
       " ('quality', 453),\n",
       " ('bought', 453),\n",
       " ('dog', 453),\n",
       " ('food', 453),\n",
       " ('found', 453),\n",
       " ('good', 453),\n",
       " ('Labrador is finicky', 453),\n",
       " ('product', 453)]"
      ]
     },
     "execution_count": 5,
     "metadata": {},
     "output_type": "execute_result"
    }
   ],
   "source": [
    "clust_output.get_similar(\"Vitality\")"
   ]
  },
  {
   "cell_type": "code",
   "execution_count": null,
   "id": "0142f6f1-7e04-41b7-959f-d00986f77eeb",
   "metadata": {},
   "outputs": [],
   "source": []
  }
 ],
 "metadata": {
  "kernelspec": {
   "display_name": "Python 3 (ipykernel)",
   "language": "python",
   "name": "python3"
  },
  "language_info": {
   "codemirror_mode": {
    "name": "ipython",
    "version": 3
   },
   "file_extension": ".py",
   "mimetype": "text/x-python",
   "name": "python",
   "nbconvert_exporter": "python",
   "pygments_lexer": "ipython3",
   "version": "3.9.7"
  }
 },
 "nbformat": 4,
 "nbformat_minor": 5
}
